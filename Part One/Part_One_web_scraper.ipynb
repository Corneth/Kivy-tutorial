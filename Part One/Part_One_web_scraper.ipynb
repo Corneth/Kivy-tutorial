{
 "cells": [
  {
   "cell_type": "code",
   "execution_count": 5,
   "id": "sound-biography",
   "metadata": {},
   "outputs": [],
   "source": [
    "import pandas as pd\n",
    "import numpy as np\n",
    "# ^^^ pyforest auto-imports - don't write above this line\n",
    "# !pip install beautifulsoup4\n",
    "# !pip install requests\n",
    "import requests\n",
    "from requests import get\n",
    "from random import randint\n",
    "from time import sleep\n",
    "from bs4 import BeautifulSoup"
   ]
  },
  {
   "cell_type": "code",
   "execution_count": 6,
   "id": "removable-judges",
   "metadata": {},
   "outputs": [
    {
     "data": {
      "application/javascript": [
       "\n",
       "        if (window._pyforest_update_imports_cell) { window._pyforest_update_imports_cell('import numpy as np'); }\n",
       "    "
      ],
      "text/plain": [
       "<IPython.core.display.Javascript object>"
      ]
     },
     "metadata": {},
     "output_type": "display_data"
    }
   ],
   "source": [
    "pages = np.arange(1,10000,250)\n",
    "title = []\n",
    "movie_rating = []\n",
    "year = []\n",
    "star_rating = []\n",
    "gross = []\n",
    "movie_genre = []\n",
    "movie_time = []\n",
    "votes = []\n",
    "def scraper():\n",
    "    \"\"\"Pulling information from the actual IMDb website.\"\"\"\n",
    "    for page in pages:\n",
    "        page = requests.get('https://www.imdb.com/search/title/?release_date=1990-01-01,2020-12-31&user_rating=4.0,9.0&certificates=US%3AG,US%3APG,US%3APG-13,US%3AR,US%3ANC-17&countries=us&sort=alpha,asc&count=250&start='+ str(page) +'&ref_=adv_nxt')\n",
    "        \n",
    "        soup = BeautifulSoup(page.text, 'html.parser')\n",
    "        \n",
    "#pulling from lister-item mode-advanced pulls all the information for each of the movies on the page to easily pull \n",
    "#the Html tags as attributes of an item\n",
    "        container = soup.findAll('div',class_ = 'lister-item mode-advanced') \n",
    "        #for loop looking for each of the catagories in each of the containers\n",
    "        for name in container:\n",
    "            #nv is so we can seperate the gross income and seperate it from the votes set into their own\n",
    "            nv = name.find_all('span',attrs ={'name':'nv'})\n",
    "            \n",
    "            title.append(name.h3.a.text)\n",
    "            movie_rating.append(name.p.span.text)\n",
    "            year.append(name.h3.find('span',class_ = 'lister-item-year').text)\n",
    "            \n",
    "            if name.strong is not None:\n",
    "                star_rating.append(float(name.strong.text))\n",
    "            else:\n",
    "                star_rating.append(0)\n",
    "                \n",
    "            gross_income = nv[1].text.strip('$\\n\\tM') if len(nv) > 1 else '0'\n",
    "            gross.append(gross_income)\n",
    "            votes_total = nv[0].text if len(nv) >1 else 0\n",
    "            votes.append(votes_total)\n",
    "            \n",
    "            if name.p.find('span',class_ = 'genre') is not None:\n",
    "                movie_genres = name.p.find('span',class_ ='genre').text\n",
    "                movie_genre.append(movie_genres)\n",
    "            else:\n",
    "                movie_genre.append('N/A')\n",
    "            \n",
    "            if name.p.find('span',class_ = 'runtime') is None:\n",
    "                movie_time.append(0)\n",
    "            else:\n",
    "                movie_time.append(name.p.find('span', class_ = 'runtime').text)\n",
    "        sleep = randint(3,5)"
   ]
  },
  {
   "cell_type": "code",
   "execution_count": 9,
   "id": "oriented-terrorist",
   "metadata": {},
   "outputs": [],
   "source": [
    "def Clean(df):\n",
    "    \"\"\"Cleaning of the information. removing unneeded characters out of the set of information as well as setting up the dataframe\"\"\"\n",
    "    df.loc[:,'Year'] = df['Year'].astype(str).str.strip('()TV Special Movie VideoGame TV–\\I Short\" \"X')\n",
    "    df.loc[:,'Movie Runtime'] = df['Movie Runtime'].astype(str).str.strip('min\\,\" \"').astype(int)\n",
    "    df.loc[:,'Votes'] = df['Votes'].astype(str).str.replace(',','').astype(float)\n",
    "    df.loc[:,'Gross Income']= df['Gross Income'].astype(str).str.replace('–',\" \",True).astype(float)\n",
    "    df.loc[:, 'Title'] = df['Title'].astype(str)\n",
    "    df.loc[:,'Movie Genre'] = df['Movie Genre'].astype(str).str.replace(' ',\"\").str.replace(\"'\",\"\").str.strip('\\n[]')\n",
    "    return df"
   ]
  },
  {
   "cell_type": "code",
   "execution_count": 10,
   "id": "extensive-battlefield",
   "metadata": {},
   "outputs": [
    {
     "data": {
      "application/javascript": [
       "\n",
       "        if (window._pyforest_update_imports_cell) { window._pyforest_update_imports_cell('import pandas as pd\\nimport numpy as np'); }\n",
       "    "
      ],
      "text/plain": [
       "<IPython.core.display.Javascript object>"
      ]
     },
     "metadata": {},
     "output_type": "display_data"
    }
   ],
   "source": [
    "scraper()\n",
    "df = pd.DataFrame({'Title': title,'Movie Rating': movie_rating,'Year': year,\n",
    "                   'Gross Income': gross,'Movie Genre': movie_genre, 'Movie Runtime': movie_time,\n",
    "                    'IMDb Rating': star_rating,'Votes': votes})\n",
    "data = Clean(df)"
   ]
  },
  {
   "cell_type": "code",
   "execution_count": null,
   "id": "affecting-cleaners",
   "metadata": {},
   "outputs": [],
   "source": [
    "data.to_csv('All_movies_year_1990-2020.csv')"
   ]
  },
  {
   "cell_type": "code",
   "execution_count": null,
   "id": "sublime-strap",
   "metadata": {},
   "outputs": [],
   "source": []
  }
 ],
 "metadata": {
  "kernelspec": {
   "display_name": "Python 3",
   "language": "python",
   "name": "python3"
  },
  "language_info": {
   "codemirror_mode": {
    "name": "ipython",
    "version": 3
   },
   "file_extension": ".py",
   "mimetype": "text/x-python",
   "name": "python",
   "nbconvert_exporter": "python",
   "pygments_lexer": "ipython3",
   "version": "3.7.9"
  }
 },
 "nbformat": 4,
 "nbformat_minor": 5
}
