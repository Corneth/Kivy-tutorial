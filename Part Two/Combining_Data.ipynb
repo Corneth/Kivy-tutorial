{
 "cells": [
  {
   "cell_type": "code",
   "execution_count": null,
   "id": "ethical-characterization",
   "metadata": {},
   "outputs": [],
   "source": [
    "import pandas as pd\n",
    "# ^^^ pyforest auto-imports - don't write above this line\n"
   ]
  },
  {
   "cell_type": "code",
   "execution_count": 11,
   "id": "reliable-engagement",
   "metadata": {},
   "outputs": [
    {
     "data": {
      "application/javascript": [
       "\n",
       "        if (window._pyforest_update_imports_cell) { window._pyforest_update_imports_cell('import pandas as pd'); }\n",
       "    "
      ],
      "text/plain": [
       "<IPython.core.display.Javascript object>"
      ]
     },
     "metadata": {},
     "output_type": "display_data"
    },
    {
     "data": {
      "application/javascript": [
       "\n",
       "        if (window._pyforest_update_imports_cell) { window._pyforest_update_imports_cell('import pandas as pd'); }\n",
       "    "
      ],
      "text/plain": [
       "<IPython.core.display.Javascript object>"
      ]
     },
     "metadata": {},
     "output_type": "display_data"
    }
   ],
   "source": [
    "\"\"\"import movie file with budget info\"\"\"\n",
    "df_budget = pd.read_csv('Data/movie_budgets.csv') # get the data for budget of movies\n",
    "df_scraped = pd.read_csv('Data/All_movies_year_1990-2020.csv')\n",
    "df_budget.rename(columns = {'movie': 'Title'}, inplace=True) # rename the movie column to title so it can be used as an index for joining \n",
    "df_budget.set_index('Title',inplace=True) # set the name as index"
   ]
  },
  {
   "cell_type": "code",
   "execution_count": 12,
   "id": "studied-program",
   "metadata": {},
   "outputs": [
    {
     "name": "stdout",
     "output_type": "stream",
     "text": [
      "<class 'pandas.core.frame.DataFrame'>\n",
      "Index: 5782 entries, Avatar to My Date With Drew\n",
      "Data columns (total 5 columns):\n",
      " #   Column             Non-Null Count  Dtype \n",
      "---  ------             --------------  ----- \n",
      " 0   id                 5782 non-null   int64 \n",
      " 1   release_date       5782 non-null   object\n",
      " 2   production_budget  5782 non-null   object\n",
      " 3   domestic_gross     5782 non-null   object\n",
      " 4   worldwide_gross    5782 non-null   object\n",
      "dtypes: int64(1), object(4)\n",
      "memory usage: 271.0+ KB\n"
     ]
    }
   ],
   "source": [
    "df_budget.info()"
   ]
  },
  {
   "cell_type": "code",
   "execution_count": 13,
   "id": "fitted-maine",
   "metadata": {},
   "outputs": [],
   "source": [
    "\"\"\"Clean budget data\"\"\"\n",
    "df_budget['production_budget'] = df_budget['production_budget'].str.strip('$').str.replace(\",\",\"\").astype(float)/1000000"
   ]
  },
  {
   "cell_type": "code",
   "execution_count": 10,
   "id": "oriented-courage",
   "metadata": {},
   "outputs": [],
   "source": [
    "# \"\"\"Clean budget data\"\"\"\n",
    "# df_budget['production_budget'] = df_budget['production_budget'].apply(lambda x: x.str.strip('$').replace(\",\",\"\")) #Clean currency string   \n",
    "# df_budget['production_budget'] = df_budget['production_budget'].astype(float)/1000000 # Convert to integer and change the amount into millions"
   ]
  },
  {
   "cell_type": "code",
   "execution_count": 14,
   "id": "communist-weapon",
   "metadata": {},
   "outputs": [
    {
     "data": {
      "text/plain": [
       "numpy.float64"
      ]
     },
     "execution_count": 14,
     "metadata": {},
     "output_type": "execute_result"
    }
   ],
   "source": [
    "type(df_budget['production_budget'][0])# check to see if amount is numeric"
   ]
  },
  {
   "cell_type": "code",
   "execution_count": 15,
   "id": "manufactured-rwanda",
   "metadata": {},
   "outputs": [
    {
     "data": {
      "application/javascript": [
       "\n",
       "        if (window._pyforest_update_imports_cell) { window._pyforest_update_imports_cell('import pandas as pd'); }\n",
       "    "
      ],
      "text/plain": [
       "<IPython.core.display.Javascript object>"
      ]
     },
     "metadata": {},
     "output_type": "display_data"
    }
   ],
   "source": [
    "\"\"\"Merge the df with budget info with the web scraped dataframe\"\"\"\n",
    "fulldf = pd.merge(df_scraped,df_budget['production_budget'],on ='Title') # add the budget column and release date to df_scraped\n",
    "fulldf.rename(columns = {'production_budget':'Budget in millions (USD)', 'Gross Income' : 'Gross Income in millions (USD)'}, inplace = True) # rename production budget to Budget"
   ]
  },
  {
   "cell_type": "code",
   "execution_count": 16,
   "id": "powerful-treasury",
   "metadata": {},
   "outputs": [],
   "source": [
    "\"\"\"Add Profit percent column\"\"\"\n",
    "fulldf['Profit percent'] = ((fulldf['Gross Income in millions (USD)'] - fulldf['Budget in millions (USD)'] )/fulldf['Budget in millions (USD)'])*100"
   ]
  },
  {
   "cell_type": "code",
   "execution_count": 17,
   "id": "leading-allocation",
   "metadata": {},
   "outputs": [],
   "source": [
    "fulldf.drop('Unnamed: 0', axis = 1,inplace = True)"
   ]
  },
  {
   "cell_type": "code",
   "execution_count": 18,
   "id": "regulation-treat",
   "metadata": {},
   "outputs": [],
   "source": [
    "\"\"\"Remove movies that have no runtime\"\"\"\n",
    "fulldf = fulldf [fulldf['Movie Runtime'] > 0]"
   ]
  },
  {
   "cell_type": "code",
   "execution_count": 19,
   "id": "damaged-advertising",
   "metadata": {},
   "outputs": [],
   "source": [
    "\"\"\"Replace unreported Gross income by the median Gross income\"\"\" \n",
    "fulldf=fulldf.replace({'Gross Income in millions (USD)': {0: fulldf['Gross Income in millions (USD)'].median()}})"
   ]
  },
  {
   "cell_type": "code",
   "execution_count": 20,
   "id": "visible-estate",
   "metadata": {},
   "outputs": [],
   "source": [
    "\"\"\"Replace unreported Votes by the median Votes\"\"\" \n",
    "fulldf=fulldf.replace({'Votes': {0: fulldf['Votes'].median()}})"
   ]
  },
  {
   "cell_type": "code",
   "execution_count": 21,
   "id": "distinguished-sponsorship",
   "metadata": {},
   "outputs": [
    {
     "name": "stdout",
     "output_type": "stream",
     "text": [
      "<class 'pandas.core.frame.DataFrame'>\n",
      "Int64Index: 4388 entries, 0 to 4397\n",
      "Data columns (total 10 columns):\n",
      " #   Column                          Non-Null Count  Dtype  \n",
      "---  ------                          --------------  -----  \n",
      " 0   Title                           4388 non-null   object \n",
      " 1   Movie Rating                    4388 non-null   object \n",
      " 2   Year                            4388 non-null   object \n",
      " 3   Gross Income in millions (USD)  4388 non-null   float64\n",
      " 4   Movie Genre                     4388 non-null   object \n",
      " 5   Movie Runtime                   4388 non-null   int64  \n",
      " 6   IMDb Rating                     4388 non-null   float64\n",
      " 7   Votes                           4388 non-null   float64\n",
      " 8   Budget in millions (USD)        4388 non-null   float64\n",
      " 9   Profit percent                  4388 non-null   float64\n",
      "dtypes: float64(5), int64(1), object(4)\n",
      "memory usage: 377.1+ KB\n"
     ]
    }
   ],
   "source": [
    "fulldf.info()"
   ]
  },
  {
   "cell_type": "code",
   "execution_count": 22,
   "id": "banned-webmaster",
   "metadata": {},
   "outputs": [],
   "source": [
    "\"\"\"Save file to csv\"\"\"\n",
    "#fulldf.to_csv(\"fulldf.csv\",index=False) # save this df as an excel file\n",
    "fulldf.to_csv(\"Data/newfulldf.csv\",index=False) # save this df as an excel file"
   ]
  },
  {
   "cell_type": "code",
   "execution_count": null,
   "id": "determined-providence",
   "metadata": {},
   "outputs": [],
   "source": []
  }
 ],
 "metadata": {
  "kernelspec": {
   "display_name": "Python 3",
   "language": "python",
   "name": "python3"
  },
  "language_info": {
   "codemirror_mode": {
    "name": "ipython",
    "version": 3
   },
   "file_extension": ".py",
   "mimetype": "text/x-python",
   "name": "python",
   "nbconvert_exporter": "python",
   "pygments_lexer": "ipython3",
   "version": "3.7.9"
  }
 },
 "nbformat": 4,
 "nbformat_minor": 5
}
